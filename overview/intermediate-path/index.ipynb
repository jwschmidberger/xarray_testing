{
 "cells": [
  {
   "cell_type": "markdown",
   "id": "6bad0788-4bd2-49bb-818a-4eda1e265cf1",
   "metadata": {},
   "source": [
    "<img src=\"../../images/scipylogo2023.png\" align=\"right\" width=\"20%\">\n",
    "\n",
    "\n",
    "# Welcome to the Xarray SciPy 2023 Tutorial! \n",
    "\n",
    "**Xarray**: *Friendly, Interactive, and Scalable Scientific Data Analysis*\n",
    "\n",
    "\n",
    "This *4-hour* workshop will explore content from [the Xarray tutorial](https://tutorial.xarray.dev), which contains a comprehensive collection of hands-on tutorial Jupyter Notebooks. We won't cover it all today, but instead will review a curated set of examples that will prepare you for increasingly complex real-world data analysis tasks!\n",
    "\n",
    "\n",
    "## Schedule \n",
    "*Times in Central Daylight (Austin, TX)\n",
    "\n",
    "Use the links to navigate to the right notebooks.\n",
    "\n",
    "**Remember to select `global-global-xarray environment` for the notebooks when prompted.**\n",
    "\n",
    "| Topic | Time | Notebook Links | \n",
    "| :- | - | - | \n",
    "| Introduction and Setup | 1:30 (20 min) | --- | \n",
    "| Indexing | 1:50 (30 min) | [Advanced and Vectorized Indexing](../../intermediate/indexing/advanced-indexing.ipynb) | \n",
    "| *10 minute Break*  \n",
    "| Computational Patterns | 2:30 (50 min) | [Computation Patterns](../../intermediate/01-high-level-computation-patterns.ipynb) |  \n",
    "| *10 minute Break*  | \n",
    "| Wrapping other arrays | 3:30 (50 min) | [Xarray and Dask](../../intermediate/xarray_and_dask.ipynb) |  \n",
    "| *10 minute Break*  | \n",
    "| Wrapping custom computation (apply_ufunc) | 4:30 (30 min) <br> <br> <br> 5:00 (30 min) | [A gentle introduction](../../advanced/apply_ufunc/simple_numpy_apply_ufunc.ipynb) <br> [Core dimensions](../../advanced/apply_ufunc/core-dimensions.ipynb) <br> [Handling complex output](../../advanced/apply_ufunc/complex-output-numpy.ipynb)  <br> Explore the rest of the material |\n",
    "| | **End 5:30** | |\n",
    "\n",
    "\n",
    "\n",
    "## Thanks for attending!\n",
    "\n",
    "Please continue to explore the subfolders in the JupyterLab File Browser for additional tutorial notebooks to run, or read the rendered notebooks at [https://tutorial.xarray.dev](https://tutorial.xarray.dev)"
   ]
  }
 ],
 "metadata": {
  "language_info": {
   "codemirror_mode": {
    "name": "ipython",
    "version": 3
   },
   "file_extension": ".py",
   "mimetype": "text/x-python",
   "name": "python",
   "nbconvert_exporter": "python",
   "pygments_lexer": "ipython3"
  }
 },
 "nbformat": 4,
 "nbformat_minor": 5
}
