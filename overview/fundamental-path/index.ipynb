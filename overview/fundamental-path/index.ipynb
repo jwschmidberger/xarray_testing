{
 "cells": [
  {
   "attachments": {},
   "cell_type": "markdown",
   "id": "6bad0788-4bd2-49bb-818a-4eda1e265cf1",
   "metadata": {},
   "source": [
    "<img src=\"../../images/scipylogo.png\" align=\"center\" width=\"90%\">\n",
    "\n",
    "# Welcome to the Xarray SciPy 2022 Tutorial! \n",
    "\n",
    "**Xarray**: *Friendly, Interactive, and Scalable Scientific Data Analysis*\n",
    "\n",
    "Learning goals:\n",
    "- understand the Xarray data model\n",
    "- effectively use Xarray’s multidimensional labeled indexing\n",
    "- utilize Xarray’s powerful built-in computational methods\n",
    "- learn about the ecosystem of software extending Xarray\n",
    "\n",
    "This *4-hour* workshop will explore content from https://tutorial.xarray.dev, which contains a comprehensive collection of hands-on tutorial Jupyter Notebooks. We won't cover it all today, but instead will review a curated set of examples that will prepare you for increasingly complex real-world data analysis tasks!\n",
    "\n",
    "\n",
    "## Schedule \n",
    "*Times in Central Daylight (Austin, TX)\n",
    "\n",
    "| Topic | Time | Notebook Links | \n",
    "| :- | - | - | \n",
    "| Introduction | 1:30 (20 min) | [getting started](../../overview/get-started.md) | \n",
    "| Data Structures | 1:50 (30 min) | [datastructures](../../fundamentals/01_datastructures.ipynb) <br> [input/output](../../fundamentals/01.1_io.ipynb) | \n",
    "| *Break*  \n",
    "| Labeled Data | 2:30 (20 min) | [working_with_labeled_data](../../fundamentals/02.1_working_with_labeled_data.ipynb) | \n",
    "| Visualizations | 2:50 (30 min) | [basic_plotting](../../fundamentals/04.1_basic_plotting.ipynb) <br> [facet plots](../../fundamentals/04.2_faceting.ipynb) | \n",
    "| *Break*  | \n",
    "| Computation | 3:30 (50 min) | [computation with xarray](../../fundamentals/03.1_computation_with_xarray.ipynb) <br> [aligning data objects](../../fundamentals/02.3_aligning_data_objects.ipynb) <br> [groupby with xarray](../../fundamentals/03.2_groupby_with_xarray.ipynb) |  \n",
    "| *Break*  | \n",
    "| Xarray ecosystem | 4:30 (30 min) | [xarray ecosystem](../../intermediate/xarray_ecosystem.ipynb) | \n",
    "| Scaling Xarray | 5:00 (20 min) |  | \n",
    "| | **End 5:30** | |\n",
    "\n",
    "**Thanks for attending!**\n",
    "\n",
    "Please continue to explore the subfolders in the JupyterLab File Browser for additional tutorial notebooks to run, or read the rendered notebooks at https://tutorial.xarray.dev"
   ]
  }
 ],
 "metadata": {
  "language_info": {
   "codemirror_mode": {
    "name": "ipython",
    "version": 3
   },
   "file_extension": ".py",
   "mimetype": "text/x-python",
   "name": "python",
   "nbconvert_exporter": "python",
   "pygments_lexer": "ipython3"
  }
 },
 "nbformat": 4,
 "nbformat_minor": 5
}
